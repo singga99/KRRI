{
 "cells": [
  {
   "cell_type": "markdown",
   "id": "aa8cb864",
   "metadata": {},
   "source": [
    "# 버스 혼잡도"
   ]
  },
  {
   "cell_type": "markdown",
   "id": "e91b29fe",
   "metadata": {},
   "source": [
    "### 0 : 없음, 3 : 여유, 4 : 보통, 5 : 혼잡, 6 : 매우혼잡\n",
    "### 각 버스마다 5개의 노선"
   ]
  },
  {
   "cell_type": "code",
   "execution_count": 1,
   "id": "c4b3b836",
   "metadata": {},
   "outputs": [],
   "source": [
    "import numpy as np\n",
    "import pandas as pd\n",
    "import pickle\n",
    "import math\n",
    "import matplotlib.pyplot as plt\n",
    "import re\n",
    "from datetime import datetime"
   ]
  },
  {
   "cell_type": "markdown",
   "id": "8efb18ce",
   "metadata": {},
   "source": [
    "## 분석"
   ]
  },
  {
   "cell_type": "code",
   "execution_count": 2,
   "id": "b1476854",
   "metadata": {},
   "outputs": [],
   "source": [
    "file = './bus_data/bus_0_park3'\n",
    "\n",
    "with open(file, 'rb') as f:\n",
    "    data = pickle.load(f)"
   ]
  },
  {
   "cell_type": "code",
   "execution_count": 3,
   "id": "b9dfbdb1",
   "metadata": {
    "scrolled": true
   },
   "outputs": [],
   "source": [
    "#data"
   ]
  },
  {
   "cell_type": "code",
   "execution_count": 4,
   "id": "63749bef",
   "metadata": {},
   "outputs": [
    {
     "name": "stdout",
     "output_type": "stream",
     "text": [
      "2022-06-08\n"
     ]
    }
   ],
   "source": [
    "text = data['114000001'][0]['dataTm']\n",
    "\n",
    "match = re.search(r'\\d{4}\\d{2}\\d{2}', text)\n",
    "date = datetime.strptime(match.group(), '%Y%m%d').date()\n",
    "print(date)"
   ]
  },
  {
   "cell_type": "markdown",
   "id": "b83e541a",
   "metadata": {},
   "source": [
    "### 혼잡도"
   ]
  },
  {
   "cell_type": "code",
   "execution_count": 10,
   "id": "995eae69",
   "metadata": {},
   "outputs": [
    {
     "name": "stdout",
     "output_type": "stream",
     "text": [
      "15248\n"
     ]
    }
   ],
   "source": [
    "arr_1 = []\n",
    "\n",
    "for key, val in data.items():\n",
    "    for i in val :\n",
    "        a = i.get('congetion')\n",
    "        arr_1.append(a)\n",
    "        \n",
    "print(len(arr_1))"
   ]
  },
  {
   "cell_type": "code",
   "execution_count": 6,
   "id": "5ac118cc",
   "metadata": {},
   "outputs": [
    {
     "name": "stdout",
     "output_type": "stream",
     "text": [
      "0\n"
     ]
    }
   ],
   "source": [
    "arr_1 = []\n",
    "\n",
    "for key, val in data.items():\n",
    "    for i in val:\n",
    "        dt = i.get('dataTm')\n",
    "        \n",
    "        if '20220526' in dt : # 0526에 해당하는 날짜만\n",
    "            a = i.get('congetion')\n",
    "            arr_1.append(a)\n",
    "        \n",
    "print(len(arr_1))"
   ]
  },
  {
   "cell_type": "code",
   "execution_count": 11,
   "id": "6997294a",
   "metadata": {},
   "outputs": [
    {
     "data": {
      "text/plain": [
       "2420"
      ]
     },
     "execution_count": 11,
     "metadata": {},
     "output_type": "execute_result"
    }
   ],
   "source": [
    "congetion_0 = arr_1.count('0')\n",
    "congetion_3 = arr_1.count('3')\n",
    "congetion_4 = arr_1.count('4')\n",
    "congetion_5 = arr_1.count('5')\n",
    "congetion_6 = arr_1.count('6')\n",
    "\n",
    "congetion_0"
   ]
  },
  {
   "cell_type": "code",
   "execution_count": 12,
   "id": "ccbdae57",
   "metadata": {},
   "outputs": [
    {
     "data": {
      "text/plain": [
       "dict_keys(['114000001', '100100359', '111000010', '100100613', '100100522'])"
      ]
     },
     "execution_count": 12,
     "metadata": {},
     "output_type": "execute_result"
    }
   ],
   "source": [
    "data.keys()"
   ]
  },
  {
   "cell_type": "code",
   "execution_count": 18,
   "id": "37c36cc8",
   "metadata": {},
   "outputs": [
    {
     "name": "stdout",
     "output_type": "stream",
     "text": [
      "114000001\n",
      "513\n",
      "[429, 84, 0, 0, 0]\n",
      "[0.836, 0.164, 0.0, 0.0, 0.0]\n",
      "100100359\n",
      "3584\n",
      "[478, 2755, 311, 40, 0]\n",
      "[0.133, 0.769, 0.087, 0.011, 0.0]\n",
      "111000010\n",
      "3453\n",
      "[478, 2418, 476, 81, 0]\n",
      "[0.138, 0.7, 0.138, 0.023, 0.0]\n",
      "100100613\n",
      "2864\n",
      "[544, 2259, 58, 3, 0]\n",
      "[0.19, 0.789, 0.02, 0.001, 0.0]\n",
      "100100522\n",
      "4834\n",
      "[491, 4059, 263, 21, 0]\n",
      "[0.102, 0.84, 0.054, 0.004, 0.0]\n"
     ]
    }
   ],
   "source": [
    "index = []\n",
    "\n",
    "for key in data.keys():\n",
    "    index = []\n",
    "    for i in data[key]:\n",
    "        a = i.get('congetion')\n",
    "        index.append(a)\n",
    "        \n",
    "    print(key)\n",
    "    print(len(index))\n",
    "\n",
    "    congetion_0 = index.count('0')\n",
    "    congetion_3 = index.count('3')\n",
    "    congetion_4 = index.count('4')\n",
    "    congetion_5 = index.count('5')\n",
    "    congetion_6 = index.count('6')\n",
    "    values = [congetion_0, congetion_3, congetion_4, congetion_5, congetion_6]\n",
    "\n",
    "    print(values)\n",
    "\n",
    "    ratio = []\n",
    "    T = len(index)\n",
    "    V = values\n",
    "    \n",
    "    for i in V:\n",
    "        ratio.append(round(i/T,3))\n",
    "\n",
    "    print(ratio)"
   ]
  },
  {
   "cell_type": "markdown",
   "id": "3fc6c936",
   "metadata": {},
   "source": [
    "### 시각화"
   ]
  },
  {
   "cell_type": "code",
   "execution_count": 17,
   "id": "b6ce2764",
   "metadata": {},
   "outputs": [
    {
     "data": {
      "image/png": "[encoded data removed]",
      "text/plain": [
       "<Figure size 432x288 with 1 Axes>"
      ]
     },
     "metadata": {
      "needs_background": "light"
     },
     "output_type": "display_data"
    }
   ],
   "source": [
    "congetion = ['0', '3', '4', '5', '6']\n",
    "values = [congetion_0, congetion_3, congetion_4, congetion_5, congetion_6]\n",
    "\n",
    "plt.bar(congetion, values)\n",
    "plt.show()"
   ]
  },
  {
   "cell_type": "markdown",
   "id": "16745fe8",
   "metadata": {},
   "source": [
    "### 비율"
   ]
  },
  {
   "cell_type": "code",
   "execution_count": 168,
   "id": "4da5a1c9",
   "metadata": {},
   "outputs": [
    {
     "name": "stdout",
     "output_type": "stream",
     "text": [
      "None\n"
     ]
    }
   ],
   "source": [
    "ratio = []\n",
    "T = len(arr_1)\n",
    "V = values\n",
    "\n",
    "for i in V:\n",
    "    ratio.append(i/T)\n",
    "    \n",
    "print(ratio)"
   ]
  },
  {
   "cell_type": "code",
   "execution_count": null,
   "id": "d01cd464",
   "metadata": {},
   "outputs": [],
   "source": []
  },
  {
   "cell_type": "markdown",
   "id": "5809ed4f",
   "metadata": {},
   "source": [
    "## 최종"
   ]
  },
  {
   "cell_type": "code",
   "execution_count": 189,
   "id": "98e208a7",
   "metadata": {},
   "outputs": [],
   "source": [
    "def cal(path):\n",
    "    print(\"<< \" + path.split(\"/\")[-1][:5] + \" >>\")\n",
    "    with open(path, 'rb') as f:\n",
    "        data = pickle.load(f)\n",
    "    \n",
    "    arr = []\n",
    "    total = []\n",
    "    total_val = [0]*5\n",
    "    total_ratio = [0]*5\n",
    "    \n",
    "    for key in data.keys():\n",
    "        arr = []\n",
    "        for i in data[key]:\n",
    "            a = i.get('congetion')\n",
    "            arr.append(a)\n",
    "            total.append(a)\n",
    "        \n",
    "        print(\"Bus ID: \", key)\n",
    "        print(\"총 혼잡도: \",len(arr))\n",
    "\n",
    "#         congetion = ['0', '3', '4', '5', '6']  ## 그래프 인자\n",
    "        congetion_0 = arr.count('0')\n",
    "        congetion_3 = arr.count('3')\n",
    "        congetion_4 = arr.count('4')\n",
    "        congetion_5 = arr.count('5')\n",
    "        congetion_6 = arr.count('6')\n",
    "        values = [congetion_0, congetion_3, congetion_4, congetion_5, congetion_6]\n",
    "        \n",
    "        total_val = [values[i] + total_val[i] for i in range(len(values))]\n",
    "\n",
    "        print(\"혼잡도 개수: \", values)\n",
    "\n",
    "        ratio = []\n",
    "        T = len(arr)\n",
    "        V = values\n",
    "\n",
    "        for i in V:\n",
    "            ratio.append(round(i/T, 3))\n",
    "            \n",
    "        total_ratio = [ratio[j] + total_ratio[j] for j in range(len(ratio))]\n",
    "    \n",
    "        print(\"혼잡도 비율: \", ratio)\n",
    "#         plt.bar(congetion, ratio)   ## 그래프\n",
    "#         plt.show()\n",
    "        print(\"-------------------------------------------------------------------------------------\")\n",
    "    \n",
    "    total_ratio = [round(i/5, 3) for i in total_ratio]\n",
    "    \n",
    "    print(\"Total: \", len(total))\n",
    "    print(\"Total count: \", total_val)\n",
    "    print(\"Total ratio: \", total_ratio)\n",
    "    print(\"\\n\")"
   ]
  },
  {
   "cell_type": "code",
   "execution_count": 190,
   "id": "c060d562",
   "metadata": {
    "scrolled": false
   },
   "outputs": [
    {
     "name": "stdout",
     "output_type": "stream",
     "text": [
      "<< bus_0 >>\n",
      "Bus ID:  114000001\n",
      "총 혼잡도:  513\n",
      "혼잡도 개수:  [429, 84, 0, 0, 0]\n",
      "혼잡도 비율:  [0.836, 0.164, 0.0, 0.0, 0.0]\n",
      "-------------------------------------------------------------------------------------\n",
      "Bus ID:  100100359\n",
      "총 혼잡도:  3584\n",
      "혼잡도 개수:  [478, 2755, 311, 40, 0]\n",
      "혼잡도 비율:  [0.133, 0.769, 0.087, 0.011, 0.0]\n",
      "-------------------------------------------------------------------------------------\n",
      "Bus ID:  111000010\n",
      "총 혼잡도:  3453\n",
      "혼잡도 개수:  [478, 2418, 476, 81, 0]\n",
      "혼잡도 비율:  [0.138, 0.7, 0.138, 0.023, 0.0]\n",
      "-------------------------------------------------------------------------------------\n",
      "Bus ID:  100100613\n",
      "총 혼잡도:  2864\n",
      "혼잡도 개수:  [544, 2259, 58, 3, 0]\n",
      "혼잡도 비율:  [0.19, 0.789, 0.02, 0.001, 0.0]\n",
      "-------------------------------------------------------------------------------------\n",
      "Bus ID:  100100522\n",
      "총 혼잡도:  4834\n",
      "혼잡도 개수:  [491, 4059, 263, 21, 0]\n",
      "혼잡도 비율:  [0.102, 0.84, 0.054, 0.004, 0.0]\n",
      "-------------------------------------------------------------------------------------\n",
      "Total:  15248\n",
      "Total count:  [2420, 11575, 1108, 145, 0]\n",
      "Total ratio:  [0.28, 0.652, 0.06, 0.008, 0.0]\n",
      "\n",
      "\n",
      "<< bus_1 >>\n",
      "Bus ID:  100100279\n",
      "총 혼잡도:  5810\n",
      "혼잡도 개수:  [520, 4709, 461, 120, 0]\n",
      "혼잡도 비율:  [0.09, 0.81, 0.079, 0.021, 0.0]\n",
      "-------------------------------------------------------------------------------------\n",
      "Bus ID:  100100330\n",
      "총 혼잡도:  2764\n",
      "혼잡도 개수:  [503, 2176, 81, 4, 0]\n",
      "혼잡도 비율:  [0.182, 0.787, 0.029, 0.001, 0.0]\n",
      "-------------------------------------------------------------------------------------\n",
      "Bus ID:  100100576\n",
      "총 혼잡도:  3151\n",
      "혼잡도 개수:  [477, 2604, 60, 10, 0]\n",
      "혼잡도 비율:  [0.151, 0.826, 0.019, 0.003, 0.0]\n",
      "-------------------------------------------------------------------------------------\n",
      "Bus ID:  100100337\n",
      "총 혼잡도:  3952\n",
      "혼잡도 개수:  [532, 3321, 97, 2, 0]\n",
      "혼잡도 비율:  [0.135, 0.84, 0.025, 0.001, 0.0]\n",
      "-------------------------------------------------------------------------------------\n",
      "Bus ID:  100100521\n",
      "총 혼잡도:  5280\n",
      "혼잡도 개수:  [521, 4366, 329, 64, 0]\n",
      "혼잡도 비율:  [0.099, 0.827, 0.062, 0.012, 0.0]\n",
      "-------------------------------------------------------------------------------------\n",
      "Total:  20957\n",
      "Total count:  [2553, 17176, 1028, 200, 0]\n",
      "Total ratio:  [0.131, 0.818, 0.043, 0.008, 0.0]\n",
      "\n",
      "\n",
      "<< bus_2 >>\n",
      "Bus ID:  100100305\n",
      "총 혼잡도:  3917\n",
      "혼잡도 개수:  [514, 3012, 346, 45, 0]\n",
      "혼잡도 비율:  [0.131, 0.769, 0.088, 0.011, 0.0]\n",
      "-------------------------------------------------------------------------------------\n",
      "Bus ID:  100100146\n",
      "총 혼잡도:  873\n",
      "혼잡도 개수:  [497, 326, 33, 17, 0]\n",
      "혼잡도 비율:  [0.569, 0.373, 0.038, 0.019, 0.0]\n",
      "-------------------------------------------------------------------------------------\n",
      "Bus ID:  100100215\n",
      "총 혼잡도:  3530\n",
      "혼잡도 개수:  [510, 2795, 205, 20, 0]\n",
      "혼잡도 비율:  [0.144, 0.792, 0.058, 0.006, 0.0]\n",
      "-------------------------------------------------------------------------------------\n",
      "Bus ID:  100100297\n",
      "총 혼잡도:  2383\n",
      "혼잡도 개수:  [479, 1778, 110, 16, 0]\n",
      "혼잡도 비율:  [0.201, 0.746, 0.046, 0.007, 0.0]\n",
      "-------------------------------------------------------------------------------------\n",
      "Bus ID:  100100347\n",
      "총 혼잡도:  2723\n",
      "혼잡도 개수:  [522, 2079, 119, 3, 0]\n",
      "혼잡도 비율:  [0.192, 0.763, 0.044, 0.001, 0.0]\n",
      "-------------------------------------------------------------------------------------\n",
      "Total:  13426\n",
      "Total count:  [2522, 9990, 813, 101, 0]\n",
      "Total ratio:  [0.247, 0.689, 0.055, 0.009, 0.0]\n",
      "\n",
      "\n",
      "<< bus_3 >>\n",
      "Bus ID:  100100287\n",
      "총 혼잡도:  4380\n",
      "혼잡도 개수:  [525, 3516, 267, 72, 0]\n",
      "혼잡도 비율:  [0.12, 0.803, 0.061, 0.016, 0.0]\n",
      "-------------------------------------------------------------------------------------\n",
      "Bus ID:  100100352\n",
      "총 혼잡도:  2630\n",
      "혼잡도 개수:  [519, 1901, 193, 17, 0]\n",
      "혼잡도 비율:  [0.197, 0.723, 0.073, 0.006, 0.0]\n",
      "-------------------------------------------------------------------------------------\n",
      "Bus ID:  100100275\n",
      "총 혼잡도:  3500\n",
      "혼잡도 개수:  [539, 2820, 114, 27, 0]\n",
      "혼잡도 비율:  [0.154, 0.806, 0.033, 0.008, 0.0]\n",
      "-------------------------------------------------------------------------------------\n",
      "Bus ID:  100100246\n",
      "총 혼잡도:  2189\n",
      "혼잡도 개수:  [467, 1648, 67, 7, 0]\n",
      "혼잡도 비율:  [0.213, 0.753, 0.031, 0.003, 0.0]\n",
      "-------------------------------------------------------------------------------------\n",
      "Bus ID:  100100272\n",
      "총 혼잡도:  2916\n",
      "혼잡도 개수:  [491, 2247, 155, 23, 0]\n",
      "혼잡도 비율:  [0.168, 0.771, 0.053, 0.008, 0.0]\n",
      "-------------------------------------------------------------------------------------\n",
      "Total:  15615\n",
      "Total count:  [2541, 12132, 796, 146, 0]\n",
      "Total ratio:  [0.17, 0.771, 0.05, 0.008, 0.0]\n",
      "\n",
      "\n",
      "<< bus_4 >>\n",
      "Bus ID:  100100145\n",
      "총 혼잡도:  489\n",
      "혼잡도 개수:  [449, 37, 3, 0, 0]\n",
      "혼잡도 비율:  [0.918, 0.076, 0.006, 0.0, 0.0]\n",
      "-------------------------------------------------------------------------------------\n",
      "Bus ID:  100100578\n",
      "총 혼잡도:  1745\n",
      "혼잡도 개수:  [480, 1210, 48, 7, 0]\n",
      "혼잡도 비율:  [0.275, 0.693, 0.028, 0.004, 0.0]\n",
      "-------------------------------------------------------------------------------------\n",
      "Bus ID:  100100165\n",
      "총 혼잡도:  2387\n",
      "혼잡도 개수:  [484, 1507, 310, 86, 0]\n",
      "혼잡도 비율:  [0.203, 0.631, 0.13, 0.036, 0.0]\n",
      "-------------------------------------------------------------------------------------\n",
      "Bus ID:  100100179\n",
      "총 혼잡도:  1691\n",
      "혼잡도 개수:  [479, 1208, 4, 0, 0]\n",
      "혼잡도 비율:  [0.283, 0.714, 0.002, 0.0, 0.0]\n",
      "-------------------------------------------------------------------------------------\n",
      "Bus ID:  100100298\n",
      "총 혼잡도:  2368\n",
      "혼잡도 개수:  [482, 1838, 44, 4, 0]\n",
      "혼잡도 비율:  [0.204, 0.776, 0.019, 0.002, 0.0]\n",
      "-------------------------------------------------------------------------------------\n",
      "Total:  8680\n",
      "Total count:  [2374, 5800, 409, 97, 0]\n",
      "Total ratio:  [0.377, 0.578, 0.037, 0.008, 0.0]\n",
      "\n",
      "\n",
      "<< bus_5 >>\n",
      "Bus ID:  100100357\n",
      "총 혼잡도:  951\n",
      "혼잡도 개수:  [511, 434, 6, 0, 0]\n",
      "혼잡도 비율:  [0.537, 0.456, 0.006, 0.0, 0.0]\n",
      "-------------------------------------------------------------------------------------\n",
      "Bus ID:  100100226\n",
      "총 혼잡도:  2988\n",
      "혼잡도 개수:  [502, 2365, 108, 13, 0]\n",
      "혼잡도 비율:  [0.168, 0.791, 0.036, 0.004, 0.0]\n",
      "-------------------------------------------------------------------------------------\n",
      "Bus ID:  100100513\n",
      "총 혼잡도:  409\n",
      "혼잡도 개수:  [409, 0, 0, 0, 0]\n",
      "혼잡도 비율:  [1.0, 0.0, 0.0, 0.0, 0.0]\n",
      "-------------------------------------------------------------------------------------\n",
      "Bus ID:  100100358\n",
      "총 혼잡도:  3938\n",
      "혼잡도 개수:  [564, 2934, 406, 34, 0]\n",
      "혼잡도 비율:  [0.143, 0.745, 0.103, 0.009, 0.0]\n",
      "-------------------------------------------------------------------------------------\n",
      "Bus ID:  100100599\n",
      "총 혼잡도:  3782\n",
      "혼잡도 개수:  [503, 3103, 147, 29, 0]\n",
      "혼잡도 비율:  [0.133, 0.82, 0.039, 0.008, 0.0]\n",
      "-------------------------------------------------------------------------------------\n",
      "Total:  12068\n",
      "Total count:  [2489, 8836, 667, 76, 0]\n",
      "Total ratio:  [0.396, 0.562, 0.037, 0.004, 0.0]\n",
      "\n",
      "\n"
     ]
    }
   ],
   "source": [
    "file = './bus_data/bus_0_park3'\n",
    "file2 = './bus_data/bus_1_park3'\n",
    "file3 = './bus_data/bus_2_gahyeon.txt'\n",
    "file4 = './bus_data/bus_3_gahyeon.txt'\n",
    "file5 = './bus_data/bus_4_dael.txt'\n",
    "file6 = './bus_data/bus_5_dael.txt'\n",
    "\n",
    "cal(file)\n",
    "cal(file2)\n",
    "cal(file3)\n",
    "cal(file4)\n",
    "cal(file5)\n",
    "cal(file6)"
   ]
  },
  {
   "cell_type": "code",
   "execution_count": null,
   "id": "923d2f37",
   "metadata": {},
   "outputs": [],
   "source": []
  }
 ],
 "metadata": {
  "kernelspec": {
   "display_name": "Python 3 (ipykernel)",
   "language": "python",
   "name": "python3"
  },
  "language_info": {
   "codemirror_mode": {
    "name": "ipython",
    "version": 3
   },
   "file_extension": ".py",
   "mimetype": "text/x-python",
   "name": "python",
   "nbconvert_exporter": "python",
   "pygments_lexer": "ipython3",
   "version": "3.8.10"
  }
 },
 "nbformat": 4,
 "nbformat_minor": 5
}
