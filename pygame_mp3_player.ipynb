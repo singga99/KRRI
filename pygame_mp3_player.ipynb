{
 "cells": [
  {
   "cell_type": "code",
   "execution_count": 104,
   "id": "41fa7207",
   "metadata": {},
   "outputs": [],
   "source": [
    "import numpy as np\n",
    "import pygame\n",
    "import pyglet"
   ]
  },
  {
   "cell_type": "code",
   "execution_count": 105,
   "id": "a18edcd8",
   "metadata": {},
   "outputs": [
    {
     "data": {
      "text/plain": [
       "(5, 0)"
      ]
     },
     "execution_count": 105,
     "metadata": {},
     "output_type": "execute_result"
    }
   ],
   "source": [
    "pygame.init() #pygame을 진행할 때 꼭 초기화를 해줘야 한다."
   ]
  },
  {
   "cell_type": "code",
   "execution_count": 106,
   "id": "03b761a0",
   "metadata": {},
   "outputs": [],
   "source": [
    "base_path = \"C:/Users/pch88/OneDrive - iVH/바탕 화면/오디오/\""
   ]
  },
  {
   "cell_type": "code",
   "execution_count": 107,
   "id": "ed9e25ec",
   "metadata": {},
   "outputs": [],
   "source": [
    "def playMusic(path):\n",
    "    pygame.mixer.init()   #mixer을 초기화\n",
    "    pygame.mixer.music.load(music_file) #음악 파일 로드\n",
    "    pygame.mixer.music.play()  #음악재생"
   ]
  },
  {
   "cell_type": "code",
   "execution_count": 108,
   "id": "6fa5fe9b",
   "metadata": {},
   "outputs": [],
   "source": [
    "#playMusic(\"C:/Users/pch88/OneDrive - iVH/바탕 화면/오디오/라이다.wav\")\n",
    "\n",
    "#C:/Users/pch88/OneDrive - iVH/바탕 화면/new_direct_45.xlsx"
   ]
  },
  {
   "cell_type": "code",
   "execution_count": 109,
   "id": "a04b59db",
   "metadata": {},
   "outputs": [],
   "source": [
    "soundPathArr = [\n",
    "    base_path + \"라이다.wav\",\n",
    "    base_path + \"수동주행.wav\",\n",
    "    base_path + \"자율주행.wav\",\n",
    "    base_path + \"카메라.wav\"\n",
    "]"
   ]
  },
  {
   "cell_type": "code",
   "execution_count": 110,
   "id": "b827af79",
   "metadata": {},
   "outputs": [],
   "source": [
    "imputArr = [1,1,1,1]\n",
    "currentArr = [1,1,1,1]"
   ]
  },
  {
   "cell_type": "code",
   "execution_count": 111,
   "id": "6e6ef536",
   "metadata": {},
   "outputs": [],
   "source": [
    "def compareArr(inputArr, currentArr):\n",
    "    for i, value in enumerate(currentArr):\n",
    "        if value != imputArr[i]:\n",
    "             playMusic(soundPathArr[i])\n",
    "             currentArr[i] = imputArr[i]"
   ]
  },
  {
   "cell_type": "code",
   "execution_count": 112,
   "id": "ab329784",
   "metadata": {},
   "outputs": [],
   "source": [
    "compareArr(imputArr,currentArr)"
   ]
  },
  {
   "cell_type": "code",
   "execution_count": 113,
   "id": "977c49dd",
   "metadata": {},
   "outputs": [],
   "source": [
    "imputArr = [1,1,1,1]\n",
    "currentArr = [[1,1,1,0],\n",
    "             [1,1,0,1],\n",
    "             [1,0,1,1],\n",
    "             [0,1,1,1]]"
   ]
  },
  {
   "cell_type": "code",
   "execution_count": 114,
   "id": "fb738664",
   "metadata": {},
   "outputs": [],
   "source": [
    "compareArr(imputArr,currentArr)"
   ]
  },
  {
   "cell_type": "code",
   "execution_count": null,
   "id": "6e85d600",
   "metadata": {},
   "outputs": [],
   "source": []
  },
  {
   "cell_type": "code",
   "execution_count": null,
   "id": "7355e44c",
   "metadata": {},
   "outputs": [],
   "source": [
    "#file = 'some.mp3'\n",
    "#pygame.init()\n",
    "#pygame.mixer.init()\n",
    "#pygame.mixer.music.load(file)\n",
    "#pygame.mixer.music.play()"
   ]
  }
 ],
 "metadata": {
  "kernelspec": {
   "display_name": "Python 3",
   "language": "python",
   "name": "python3"
  },
  "language_info": {
   "codemirror_mode": {
    "name": "ipython",
    "version": 3
   },
   "file_extension": ".py",
   "mimetype": "text/x-python",
   "name": "python",
   "nbconvert_exporter": "python",
   "pygments_lexer": "ipython3",
   "version": "3.8.10"
  }
 },
 "nbformat": 4,
 "nbformat_minor": 5
}
