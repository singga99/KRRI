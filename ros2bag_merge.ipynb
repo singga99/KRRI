{
 "cells": [
  {
   "cell_type": "code",
   "execution_count": 1,
   "id": "d075d8ec",
   "metadata": {},
   "outputs": [],
   "source": [
    "import sqlite3"
   ]
  },
  {
   "cell_type": "code",
   "execution_count": 8,
   "id": "06e3523e",
   "metadata": {},
   "outputs": [],
   "source": [
    "con = sqlite3.connect('/home/krri/HDD/Bags/rosbag2_2022_03_23-16_46_26/rosbag2_2022_03_23-16_46_26_0.db3')\n",
    "cur = con.cursor()"
   ]
  },
  {
   "cell_type": "code",
   "execution_count": 6,
   "id": "092d97be",
   "metadata": {},
   "outputs": [],
   "source": [
    "timeDiff = []\n",
    "pre_time = 0\n",
    "for time in cur.execute('SELECT timestamp FROM messages'):\n",
    "    timeDiff.append(time[0] - pre_time)\n",
    "    pre_time = time[0]"
   ]
  },
  {
   "cell_type": "code",
   "execution_count": 3,
   "id": "4fc5fdeb",
   "metadata": {},
   "outputs": [
    {
     "data": {
      "text/plain": [
       "1648021666841524502"
      ]
     },
     "execution_count": 3,
     "metadata": {},
     "output_type": "execute_result"
    }
   ],
   "source": [
    "pre_time"
   ]
  },
  {
   "cell_type": "code",
   "execution_count": null,
   "id": "46c1f02e",
   "metadata": {},
   "outputs": [],
   "source": [
    "# first : 1648021586171224440\n",
    "# last : 1648021666841524502"
   ]
  },
  {
   "cell_type": "code",
   "execution_count": 6,
   "id": "ed610162",
   "metadata": {},
   "outputs": [
    {
     "name": "stdout",
     "output_type": "stream",
     "text": [
      "(3580, 1, 1648021666841524502, b\"\\x00\\x01\\x00\\x00\\x0fgea\\x00'\\xb9)\\x0b\\x00\\x00\\x00UTC | SYNC\\x00Y\\x86A\\x19?\")\n"
     ]
    }
   ],
   "source": [
    "con = sqlite3.connect('/home/krri/HDD/Bags/rosbag2_2022_03_23-16_46_26/rosbag2_2022_03_23-16_46_26_0.db3')\n",
    "cur = con.cursor()\n",
    "\n",
    "sql = \"\"\"INSERT INTO messages(id, topic_id, timestamp, data) VALUES (?,?,?,?);\"\"\"\n",
    "\n",
    "time = 1648021586171224440 # 첫 시간\n",
    "pre_time = 1648021666841524502 # 마지막 시간\n",
    "diff = 0 # 차이(현재 - 첫)\n",
    "idx = 0\n",
    "\n",
    "for row in cur.execute(\"SELECT * FROM messages\"):\n",
    "    diff = row[2] - time\n",
    "    data = (row[0]+3579, row[1], pre_time+diff, row[3])\n",
    "#     diff = row[2]- diff\n",
    "    cur.execute(sql, data)\n",
    "#     idx += 1\n",
    "    print(data)\n",
    "    \n",
    "# cur.commit()\n",
    "con.close()"
   ]
  },
  {
   "cell_type": "code",
   "execution_count": null,
   "id": "d335d2fd",
   "metadata": {},
   "outputs": [],
   "source": []
  }
 ],
 "metadata": {
  "kernelspec": {
   "display_name": "Python 3 (ipykernel)",
   "language": "python",
   "name": "python3"
  },
  "language_info": {
   "codemirror_mode": {
    "name": "ipython",
    "version": 3
   },
   "file_extension": ".py",
   "mimetype": "text/x-python",
   "name": "python",
   "nbconvert_exporter": "python",
   "pygments_lexer": "ipython3",
   "version": "3.8.10"
  }
 },
 "nbformat": 4,
 "nbformat_minor": 5
}
